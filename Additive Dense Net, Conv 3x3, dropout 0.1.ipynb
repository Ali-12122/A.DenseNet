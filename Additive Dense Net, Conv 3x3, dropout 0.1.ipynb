{
 "cells": [
  {
   "cell_type": "code",
   "execution_count": 1,
   "id": "d86c37f6",
   "metadata": {},
   "outputs": [],
   "source": [
    "import pandas as pd\n",
    "import numpy as np\n",
    "import torch\n",
    "import torchvision \n",
    "import torch.nn.functional as F\n",
    "import torchvision.datasets as datasets\n",
    "import torchvision.transforms as transforms\n",
    "from torch import optim\n",
    "from torch import nn\n",
    "from torch.utils.data import DataLoader\n",
    "from tqdm import tqdm\n"
   ]
  },
  {
   "cell_type": "code",
   "execution_count": 2,
   "id": "9b778830",
   "metadata": {},
   "outputs": [],
   "source": [
    "def conv(channels_in, channels_out): \n",
    "    return nn.Conv2d(channels_in, channels_out, kernel_size = 3, stride = 1, padding = 'same', bias = False)\n",
    "\n",
    "def pool(): \n",
    "    return nn.AvgPool2d(kernel_size = 2, stride = 2)\n",
    "\n",
    "def conv1x1(channels_in, channels_out): \n",
    "    return nn.Conv2d(channels_in, channels_out, kernel_size = 1, stride = 1, padding = 'same')\n",
    "\n",
    "def bn(channels_in): \n",
    "    return nn.BatchNorm2d(channels_in)\n",
    "\n",
    "def relu():\n",
    "    return nn.ReLU()\n",
    "\n",
    "def dropout(rate):\n",
    "    return nn.Dropout(rate)"
   ]
  },
  {
   "cell_type": "code",
   "execution_count": 3,
   "id": "05ef759b",
   "metadata": {},
   "outputs": [],
   "source": [
    "class Layer(nn.Sequential):\n",
    "    def __init__(self, channels):\n",
    "        super(Layer, self).__init__()\n",
    "        self.add_module('norm', bn(channels))\n",
    "        self.add_module('relu', relu())\n",
    "        self.add_module('conv', conv(channels, channels))\n",
    "    "
   ]
  },
  {
   "cell_type": "code",
   "execution_count": 4,
   "id": "7a0b0abd",
   "metadata": {},
   "outputs": [],
   "source": [
    "class DenseBlock(nn.Module):\n",
    "    def __init__(self, channels, number_of_layers):\n",
    "        super(DenseBlock, self).__init__()\n",
    "        for i in range(number_of_layers):\n",
    "            layer = Layer(channels = channels)\n",
    "            self.add_module('layer%d' % (i + 1), layer)\n",
    "    \n",
    "    def forward(self, initial_features):\n",
    "        features = initial_features\n",
    "        \n",
    "        for name, layer in self.named_children():\n",
    "            new_features = layer(features)\n",
    "            features = torch.add(features, new_features) # += operator does not work, Bug source.\n",
    "            \n",
    "        return features"
   ]
  },
  {
   "cell_type": "code",
   "execution_count": 5,
   "id": "f61dde2c",
   "metadata": {},
   "outputs": [],
   "source": [
    "class Transition_Layer(nn.Sequential):\n",
    "    def __init__(self, channels_in, channels_out):\n",
    "        super(Transition_Layer, self).__init__()\n",
    "        self.add_module('norm', bn(channels_in)),\n",
    "        self.add_module('relu', nn.ReLU()),\n",
    "        self.add_module('conv1x1', conv1x1(channels_in, channels_out)),\n",
    "        self.add_module('pool', pool())\n",
    "        self.add_module('dropout', dropout(0.1))"
   ]
  },
  {
   "cell_type": "code",
   "execution_count": 6,
   "id": "e5325f7b",
   "metadata": {},
   "outputs": [],
   "source": [
    "class stage(nn.Sequential):\n",
    "    def __init__(self, channels_in, channels_out, number_of_layers):\n",
    "        super(stage, self).__init__()\n",
    "        self.add_module('dense_block', DenseBlock(channels_in, number_of_layers))\n",
    "        self.add_module('transition_layer', Transition_Layer(channels_in, channels_out))"
   ]
  },
  {
   "cell_type": "code",
   "execution_count": 7,
   "id": "e7e0638d",
   "metadata": {},
   "outputs": [],
   "source": [
    "class AD_Net(nn.Sequential):\n",
    "    def __init__(self):\n",
    "        super(AD_Net, self).__init__()\n",
    "        self.add_module('stage1', stage(3, 8, 3)) # 32\n",
    "        self.add_module('stage2', stage(8, 16, 3)) # 16\n",
    "        self.add_module('stage3', stage(16, 32, 3)) # 8\n",
    "        self.add_module('stage4', stage(32, 32, 3)) # 4\n",
    "        self.add_module('stage5', stage(32, 16, 3)) # 2\n",
    "        self.add_module('dense_block_final', DenseBlock(16, 3)) # 1\n",
    "        self.add_module('conv1x1', conv1x1(16, 10)) \n",
    "        self.add_module('flatten', nn.Flatten())"
   ]
  },
  {
   "cell_type": "code",
   "execution_count": 8,
   "id": "b05ca8e1",
   "metadata": {},
   "outputs": [],
   "source": [
    "device = torch.device(\"cuda\" if torch.cuda.is_available() else \"cpu\")"
   ]
  },
  {
   "cell_type": "code",
   "execution_count": 9,
   "id": "aef8c582",
   "metadata": {},
   "outputs": [],
   "source": [
    "model = AD_Net()"
   ]
  },
  {
   "cell_type": "code",
   "execution_count": 10,
   "id": "c0b6449a",
   "metadata": {},
   "outputs": [],
   "source": [
    "model = model.to(device)"
   ]
  },
  {
   "cell_type": "code",
   "execution_count": 11,
   "id": "f16d0be7",
   "metadata": {},
   "outputs": [],
   "source": [
    "# Hyper parameters\n",
    "learning_rate = 3e-4\n",
    "batch_size = 128\n",
    "num_epochs = 30"
   ]
  },
  {
   "cell_type": "code",
   "execution_count": 12,
   "id": "77ffce9b",
   "metadata": {},
   "outputs": [
    {
     "name": "stdout",
     "output_type": "stream",
     "text": [
      "Files already downloaded and verified\n",
      "Files already downloaded and verified\n"
     ]
    }
   ],
   "source": [
    "transform = transforms.Compose(\n",
    "    [transforms.ToTensor(),\n",
    "     transforms.Normalize(\n",
    "         (0.5, 0.5, 0.5),\n",
    "         (0.5, 0.5, 0.5)\n",
    "     )])\n",
    "\n",
    "trainset = torchvision.datasets.CIFAR10(\n",
    "                root = './data',\n",
    "                train = True,\n",
    "                download = True,\n",
    "                transform = transform\n",
    "            )\n",
    "train_loader = torch.utils.data.DataLoader(\n",
    "                trainset,\n",
    "                batch_size = batch_size,\n",
    "                shuffle = True,\n",
    "                num_workers = 2\n",
    "            )\n",
    "\n",
    "testset = torchvision.datasets.CIFAR10(\n",
    "                root = './data',\n",
    "                train = False,\n",
    "                download = True,\n",
    "                transform = transform\n",
    "            )\n",
    "test_loader = torch.utils.data.DataLoader(\n",
    "                testset,\n",
    "                batch_size = batch_size,\n",
    "                shuffle = False,\n",
    "                num_workers = 2\n",
    "            )\n",
    "\n",
    "classes = ('plane', 'car', 'bird', 'cat',\n",
    "           'deer', 'dog', 'frog', 'horse', 'ship', 'truck')"
   ]
  },
  {
   "cell_type": "code",
   "execution_count": 13,
   "id": "4998ac39",
   "metadata": {},
   "outputs": [],
   "source": [
    "criterion = nn.CrossEntropyLoss()\n",
    "optimizer = optim.Adam(model.parameters(), lr = learning_rate, weight_decay = 1e-5)\n",
    "scheduler = torch.optim.lr_scheduler.OneCycleLR(\n",
    "    optimizer,\n",
    "    max_lr = 0.1,\n",
    "    steps_per_epoch = len(train_loader),\n",
    "    epochs = num_epochs\n",
    ")"
   ]
  },
  {
   "cell_type": "code",
   "execution_count": 14,
   "id": "e1072db0",
   "metadata": {
    "scrolled": true
   },
   "outputs": [
    {
     "data": {
      "text/plain": [
       "==========================================================================================\n",
       "Layer (type:depth-idx)                   Output Shape              Param #\n",
       "==========================================================================================\n",
       "AD_Net                                   [128, 10]                 --\n",
       "├─stage: 1-1                             [128, 8, 16, 16]          --\n",
       "│    └─DenseBlock: 2-1                   [128, 3, 32, 32]          --\n",
       "│    │    └─Layer: 3-1                   [128, 3, 32, 32]          87\n",
       "│    │    └─Layer: 3-2                   [128, 3, 32, 32]          87\n",
       "│    │    └─Layer: 3-3                   [128, 3, 32, 32]          87\n",
       "│    └─Transition_Layer: 2-2             [128, 8, 16, 16]          --\n",
       "│    │    └─BatchNorm2d: 3-4             [128, 3, 32, 32]          6\n",
       "│    │    └─ReLU: 3-5                    [128, 3, 32, 32]          --\n",
       "│    │    └─Conv2d: 3-6                  [128, 8, 32, 32]          32\n",
       "│    │    └─AvgPool2d: 3-7               [128, 8, 16, 16]          --\n",
       "│    │    └─Dropout: 3-8                 [128, 8, 16, 16]          --\n",
       "├─stage: 1-2                             [128, 16, 8, 8]           --\n",
       "│    └─DenseBlock: 2-3                   [128, 8, 16, 16]          --\n",
       "│    │    └─Layer: 3-9                   [128, 8, 16, 16]          592\n",
       "│    │    └─Layer: 3-10                  [128, 8, 16, 16]          592\n",
       "│    │    └─Layer: 3-11                  [128, 8, 16, 16]          592\n",
       "│    └─Transition_Layer: 2-4             [128, 16, 8, 8]           --\n",
       "│    │    └─BatchNorm2d: 3-12            [128, 8, 16, 16]          16\n",
       "│    │    └─ReLU: 3-13                   [128, 8, 16, 16]          --\n",
       "│    │    └─Conv2d: 3-14                 [128, 16, 16, 16]         144\n",
       "│    │    └─AvgPool2d: 3-15              [128, 16, 8, 8]           --\n",
       "│    │    └─Dropout: 3-16                [128, 16, 8, 8]           --\n",
       "├─stage: 1-3                             [128, 32, 4, 4]           --\n",
       "│    └─DenseBlock: 2-5                   [128, 16, 8, 8]           --\n",
       "│    │    └─Layer: 3-17                  [128, 16, 8, 8]           2,336\n",
       "│    │    └─Layer: 3-18                  [128, 16, 8, 8]           2,336\n",
       "│    │    └─Layer: 3-19                  [128, 16, 8, 8]           2,336\n",
       "│    └─Transition_Layer: 2-6             [128, 32, 4, 4]           --\n",
       "│    │    └─BatchNorm2d: 3-20            [128, 16, 8, 8]           32\n",
       "│    │    └─ReLU: 3-21                   [128, 16, 8, 8]           --\n",
       "│    │    └─Conv2d: 3-22                 [128, 32, 8, 8]           544\n",
       "│    │    └─AvgPool2d: 3-23              [128, 32, 4, 4]           --\n",
       "│    │    └─Dropout: 3-24                [128, 32, 4, 4]           --\n",
       "├─stage: 1-4                             [128, 32, 2, 2]           --\n",
       "│    └─DenseBlock: 2-7                   [128, 32, 4, 4]           --\n",
       "│    │    └─Layer: 3-25                  [128, 32, 4, 4]           9,280\n",
       "│    │    └─Layer: 3-26                  [128, 32, 4, 4]           9,280\n",
       "│    │    └─Layer: 3-27                  [128, 32, 4, 4]           9,280\n",
       "│    └─Transition_Layer: 2-8             [128, 32, 2, 2]           --\n",
       "│    │    └─BatchNorm2d: 3-28            [128, 32, 4, 4]           64\n",
       "│    │    └─ReLU: 3-29                   [128, 32, 4, 4]           --\n",
       "│    │    └─Conv2d: 3-30                 [128, 32, 4, 4]           1,056\n",
       "│    │    └─AvgPool2d: 3-31              [128, 32, 2, 2]           --\n",
       "│    │    └─Dropout: 3-32                [128, 32, 2, 2]           --\n",
       "├─stage: 1-5                             [128, 16, 1, 1]           --\n",
       "│    └─DenseBlock: 2-9                   [128, 32, 2, 2]           --\n",
       "│    │    └─Layer: 3-33                  [128, 32, 2, 2]           9,280\n",
       "│    │    └─Layer: 3-34                  [128, 32, 2, 2]           9,280\n",
       "│    │    └─Layer: 3-35                  [128, 32, 2, 2]           9,280\n",
       "│    └─Transition_Layer: 2-10            [128, 16, 1, 1]           --\n",
       "│    │    └─BatchNorm2d: 3-36            [128, 32, 2, 2]           64\n",
       "│    │    └─ReLU: 3-37                   [128, 32, 2, 2]           --\n",
       "│    │    └─Conv2d: 3-38                 [128, 16, 2, 2]           528\n",
       "│    │    └─AvgPool2d: 3-39              [128, 16, 1, 1]           --\n",
       "│    │    └─Dropout: 3-40                [128, 16, 1, 1]           --\n",
       "├─DenseBlock: 1-6                        [128, 16, 1, 1]           --\n",
       "│    └─Layer: 2-11                       [128, 16, 1, 1]           --\n",
       "│    │    └─BatchNorm2d: 3-41            [128, 16, 1, 1]           32\n",
       "│    │    └─ReLU: 3-42                   [128, 16, 1, 1]           --\n",
       "│    │    └─Conv2d: 3-43                 [128, 16, 1, 1]           2,304\n",
       "│    └─Layer: 2-12                       [128, 16, 1, 1]           --\n",
       "│    │    └─BatchNorm2d: 3-44            [128, 16, 1, 1]           32\n",
       "│    │    └─ReLU: 3-45                   [128, 16, 1, 1]           --\n",
       "│    │    └─Conv2d: 3-46                 [128, 16, 1, 1]           2,304\n",
       "│    └─Layer: 2-13                       [128, 16, 1, 1]           --\n",
       "│    │    └─BatchNorm2d: 3-47            [128, 16, 1, 1]           32\n",
       "│    │    └─ReLU: 3-48                   [128, 16, 1, 1]           --\n",
       "│    │    └─Conv2d: 3-49                 [128, 16, 1, 1]           2,304\n",
       "├─Conv2d: 1-7                            [128, 10, 1, 1]           170\n",
       "├─Flatten: 1-8                           [128, 10]                 --\n",
       "==========================================================================================\n",
       "Total params: 74,389\n",
       "Trainable params: 74,389\n",
       "Non-trainable params: 0\n",
       "Total mult-adds (M): 232.69\n",
       "==========================================================================================\n",
       "Input size (MB): 1.57\n",
       "Forward/backward pass size (MB): 64.01\n",
       "Params size (MB): 0.30\n",
       "Estimated Total Size (MB): 65.88\n",
       "=========================================================================================="
      ]
     },
     "execution_count": 14,
     "metadata": {},
     "output_type": "execute_result"
    }
   ],
   "source": [
    "from torchinfo import summary\n",
    "\n",
    "model = model\n",
    "summary(model, input_size=(batch_size, 3, 32, 32))"
   ]
  },
  {
   "cell_type": "code",
   "execution_count": 15,
   "id": "1824e929",
   "metadata": {},
   "outputs": [
    {
     "name": "stderr",
     "output_type": "stream",
     "text": [
      "100%|████████████████████████████████████████████████████████████████████████████████| 391/391 [00:33<00:00, 11.54it/s]\n"
     ]
    },
    {
     "name": "stdout",
     "output_type": "stream",
     "text": [
      "Epoch:1, Loss:1.664523\n"
     ]
    },
    {
     "name": "stderr",
     "output_type": "stream",
     "text": [
      "100%|████████████████████████████████████████████████████████████████████████████████| 391/391 [00:35<00:00, 10.94it/s]\n"
     ]
    },
    {
     "name": "stdout",
     "output_type": "stream",
     "text": [
      "Epoch:2, Loss:1.489243\n"
     ]
    },
    {
     "name": "stderr",
     "output_type": "stream",
     "text": [
      "100%|████████████████████████████████████████████████████████████████████████████████| 391/391 [00:35<00:00, 11.08it/s]\n"
     ]
    },
    {
     "name": "stdout",
     "output_type": "stream",
     "text": [
      "Epoch:3, Loss:1.275810\n"
     ]
    },
    {
     "name": "stderr",
     "output_type": "stream",
     "text": [
      "100%|████████████████████████████████████████████████████████████████████████████████| 391/391 [00:35<00:00, 11.15it/s]\n"
     ]
    },
    {
     "name": "stdout",
     "output_type": "stream",
     "text": [
      "Epoch:4, Loss:1.374888\n"
     ]
    },
    {
     "name": "stderr",
     "output_type": "stream",
     "text": [
      "100%|████████████████████████████████████████████████████████████████████████████████| 391/391 [00:35<00:00, 11.14it/s]\n"
     ]
    },
    {
     "name": "stdout",
     "output_type": "stream",
     "text": [
      "Epoch:5, Loss:1.270140\n"
     ]
    },
    {
     "name": "stderr",
     "output_type": "stream",
     "text": [
      "100%|████████████████████████████████████████████████████████████████████████████████| 391/391 [00:34<00:00, 11.20it/s]\n"
     ]
    },
    {
     "name": "stdout",
     "output_type": "stream",
     "text": [
      "Epoch:6, Loss:1.205680\n"
     ]
    },
    {
     "name": "stderr",
     "output_type": "stream",
     "text": [
      "100%|████████████████████████████████████████████████████████████████████████████████| 391/391 [00:35<00:00, 10.98it/s]\n"
     ]
    },
    {
     "name": "stdout",
     "output_type": "stream",
     "text": [
      "Epoch:7, Loss:0.935953\n"
     ]
    },
    {
     "name": "stderr",
     "output_type": "stream",
     "text": [
      "100%|████████████████████████████████████████████████████████████████████████████████| 391/391 [00:35<00:00, 11.16it/s]\n"
     ]
    },
    {
     "name": "stdout",
     "output_type": "stream",
     "text": [
      "Epoch:8, Loss:1.391670\n"
     ]
    },
    {
     "name": "stderr",
     "output_type": "stream",
     "text": [
      "100%|████████████████████████████████████████████████████████████████████████████████| 391/391 [00:35<00:00, 11.05it/s]\n"
     ]
    },
    {
     "name": "stdout",
     "output_type": "stream",
     "text": [
      "Epoch:9, Loss:1.017786\n"
     ]
    },
    {
     "name": "stderr",
     "output_type": "stream",
     "text": [
      "100%|████████████████████████████████████████████████████████████████████████████████| 391/391 [00:35<00:00, 11.15it/s]\n"
     ]
    },
    {
     "name": "stdout",
     "output_type": "stream",
     "text": [
      "Epoch:10, Loss:1.159970\n"
     ]
    },
    {
     "name": "stderr",
     "output_type": "stream",
     "text": [
      "100%|████████████████████████████████████████████████████████████████████████████████| 391/391 [00:38<00:00, 10.21it/s]\n"
     ]
    },
    {
     "name": "stdout",
     "output_type": "stream",
     "text": [
      "Epoch:11, Loss:0.813873\n"
     ]
    },
    {
     "name": "stderr",
     "output_type": "stream",
     "text": [
      "100%|████████████████████████████████████████████████████████████████████████████████| 391/391 [00:38<00:00, 10.28it/s]\n"
     ]
    },
    {
     "name": "stdout",
     "output_type": "stream",
     "text": [
      "Epoch:12, Loss:0.778068\n"
     ]
    },
    {
     "name": "stderr",
     "output_type": "stream",
     "text": [
      "100%|████████████████████████████████████████████████████████████████████████████████| 391/391 [00:37<00:00, 10.44it/s]\n"
     ]
    },
    {
     "name": "stdout",
     "output_type": "stream",
     "text": [
      "Epoch:13, Loss:1.109408\n"
     ]
    },
    {
     "name": "stderr",
     "output_type": "stream",
     "text": [
      "100%|████████████████████████████████████████████████████████████████████████████████| 391/391 [00:37<00:00, 10.39it/s]\n"
     ]
    },
    {
     "name": "stdout",
     "output_type": "stream",
     "text": [
      "Epoch:14, Loss:0.864972\n"
     ]
    },
    {
     "name": "stderr",
     "output_type": "stream",
     "text": [
      "100%|████████████████████████████████████████████████████████████████████████████████| 391/391 [00:37<00:00, 10.44it/s]\n"
     ]
    },
    {
     "name": "stdout",
     "output_type": "stream",
     "text": [
      "Epoch:15, Loss:0.840514\n"
     ]
    },
    {
     "name": "stderr",
     "output_type": "stream",
     "text": [
      "100%|████████████████████████████████████████████████████████████████████████████████| 391/391 [00:38<00:00, 10.25it/s]\n"
     ]
    },
    {
     "name": "stdout",
     "output_type": "stream",
     "text": [
      "Epoch:16, Loss:0.995784\n"
     ]
    },
    {
     "name": "stderr",
     "output_type": "stream",
     "text": [
      "100%|████████████████████████████████████████████████████████████████████████████████| 391/391 [00:37<00:00, 10.36it/s]\n"
     ]
    },
    {
     "name": "stdout",
     "output_type": "stream",
     "text": [
      "Epoch:17, Loss:0.802079\n"
     ]
    },
    {
     "name": "stderr",
     "output_type": "stream",
     "text": [
      "100%|████████████████████████████████████████████████████████████████████████████████| 391/391 [00:37<00:00, 10.42it/s]\n"
     ]
    },
    {
     "name": "stdout",
     "output_type": "stream",
     "text": [
      "Epoch:18, Loss:0.902716\n"
     ]
    },
    {
     "name": "stderr",
     "output_type": "stream",
     "text": [
      "100%|████████████████████████████████████████████████████████████████████████████████| 391/391 [00:37<00:00, 10.42it/s]\n"
     ]
    },
    {
     "name": "stdout",
     "output_type": "stream",
     "text": [
      "Epoch:19, Loss:1.045449\n"
     ]
    },
    {
     "name": "stderr",
     "output_type": "stream",
     "text": [
      "100%|████████████████████████████████████████████████████████████████████████████████| 391/391 [00:36<00:00, 10.74it/s]\n"
     ]
    },
    {
     "name": "stdout",
     "output_type": "stream",
     "text": [
      "Epoch:20, Loss:0.786994\n"
     ]
    },
    {
     "name": "stderr",
     "output_type": "stream",
     "text": [
      "100%|████████████████████████████████████████████████████████████████████████████████| 391/391 [00:36<00:00, 10.81it/s]\n"
     ]
    },
    {
     "name": "stdout",
     "output_type": "stream",
     "text": [
      "Epoch:21, Loss:0.864363\n"
     ]
    },
    {
     "name": "stderr",
     "output_type": "stream",
     "text": [
      "100%|████████████████████████████████████████████████████████████████████████████████| 391/391 [00:36<00:00, 10.76it/s]\n"
     ]
    },
    {
     "name": "stdout",
     "output_type": "stream",
     "text": [
      "Epoch:22, Loss:0.872668\n"
     ]
    },
    {
     "name": "stderr",
     "output_type": "stream",
     "text": [
      "100%|████████████████████████████████████████████████████████████████████████████████| 391/391 [00:36<00:00, 10.74it/s]\n"
     ]
    },
    {
     "name": "stdout",
     "output_type": "stream",
     "text": [
      "Epoch:23, Loss:0.969093\n"
     ]
    },
    {
     "name": "stderr",
     "output_type": "stream",
     "text": [
      "100%|████████████████████████████████████████████████████████████████████████████████| 391/391 [00:36<00:00, 10.77it/s]\n"
     ]
    },
    {
     "name": "stdout",
     "output_type": "stream",
     "text": [
      "Epoch:24, Loss:0.741184\n"
     ]
    },
    {
     "name": "stderr",
     "output_type": "stream",
     "text": [
      "100%|████████████████████████████████████████████████████████████████████████████████| 391/391 [00:36<00:00, 10.77it/s]\n"
     ]
    },
    {
     "name": "stdout",
     "output_type": "stream",
     "text": [
      "Epoch:25, Loss:0.782498\n"
     ]
    },
    {
     "name": "stderr",
     "output_type": "stream",
     "text": [
      "100%|████████████████████████████████████████████████████████████████████████████████| 391/391 [00:36<00:00, 10.80it/s]\n"
     ]
    },
    {
     "name": "stdout",
     "output_type": "stream",
     "text": [
      "Epoch:26, Loss:0.903068\n"
     ]
    },
    {
     "name": "stderr",
     "output_type": "stream",
     "text": [
      "100%|████████████████████████████████████████████████████████████████████████████████| 391/391 [00:36<00:00, 10.82it/s]\n"
     ]
    },
    {
     "name": "stdout",
     "output_type": "stream",
     "text": [
      "Epoch:27, Loss:0.785916\n"
     ]
    },
    {
     "name": "stderr",
     "output_type": "stream",
     "text": [
      "100%|████████████████████████████████████████████████████████████████████████████████| 391/391 [00:36<00:00, 10.79it/s]\n"
     ]
    },
    {
     "name": "stdout",
     "output_type": "stream",
     "text": [
      "Epoch:28, Loss:0.951562\n"
     ]
    },
    {
     "name": "stderr",
     "output_type": "stream",
     "text": [
      "100%|████████████████████████████████████████████████████████████████████████████████| 391/391 [00:35<00:00, 11.10it/s]\n"
     ]
    },
    {
     "name": "stdout",
     "output_type": "stream",
     "text": [
      "Epoch:29, Loss:0.595629\n"
     ]
    },
    {
     "name": "stderr",
     "output_type": "stream",
     "text": [
      "100%|████████████████████████████████████████████████████████████████████████████████| 391/391 [00:35<00:00, 11.14it/s]"
     ]
    },
    {
     "name": "stdout",
     "output_type": "stream",
     "text": [
      "Epoch:30, Loss:0.709802\n"
     ]
    },
    {
     "name": "stderr",
     "output_type": "stream",
     "text": [
      "\n"
     ]
    }
   ],
   "source": [
    "for epoch in range(num_epochs):\n",
    "    for batch_idx, (data, targets) in enumerate(tqdm(train_loader)):\n",
    "        data = data.to(device=device)\n",
    "        targets = targets.to(device=device)\n",
    "\n",
    "        scores = model(data)\n",
    "        loss = criterion(scores, targets)\n",
    "        \n",
    "        \n",
    "        optimizer.zero_grad()\n",
    "        loss.backward()\n",
    "\n",
    "        optimizer.step()\n",
    "    print(f'Epoch:{epoch+1}, Loss:{loss.item():f}')\n",
    "    scheduler.step()\n"
   ]
  },
  {
   "cell_type": "code",
   "execution_count": 16,
   "id": "39bad08b",
   "metadata": {},
   "outputs": [
    {
     "name": "stdout",
     "output_type": "stream",
     "text": [
      "Accuracy on training set: 78.14\n",
      "Accuracy on test set: 71.91\n"
     ]
    }
   ],
   "source": [
    "def check_accuracy(loader, model):\n",
    "    num_correct = 0\n",
    "    num_samples = 0\n",
    "    model.eval()\n",
    "\n",
    "    with torch.no_grad():\n",
    "        for x, y in loader:\n",
    "            x = x.to(device=device)\n",
    "            y = y.to(device=device)\n",
    "\n",
    "            scores = model(x)\n",
    "            _, predictions = scores.max(1)\n",
    "            num_correct += (predictions == y).sum()\n",
    "            num_samples += predictions.size(0)\n",
    "\n",
    "\n",
    "    model.train()\n",
    "    return num_correct/num_samples\n",
    "\n",
    "\n",
    "print(f\"Accuracy on training set: {check_accuracy(train_loader, model)*100:.2f}\")\n",
    "print(f\"Accuracy on test set: {check_accuracy(test_loader, model)*100:.2f}\")"
   ]
  },
  {
   "cell_type": "code",
   "execution_count": null,
   "id": "60d64ef4",
   "metadata": {},
   "outputs": [],
   "source": []
  }
 ],
 "metadata": {
  "kernelspec": {
   "display_name": "Python 3 (ipykernel)",
   "language": "python",
   "name": "python3"
  },
  "language_info": {
   "codemirror_mode": {
    "name": "ipython",
    "version": 3
   },
   "file_extension": ".py",
   "mimetype": "text/x-python",
   "name": "python",
   "nbconvert_exporter": "python",
   "pygments_lexer": "ipython3",
   "version": "3.9.7"
  }
 },
 "nbformat": 4,
 "nbformat_minor": 5
}
